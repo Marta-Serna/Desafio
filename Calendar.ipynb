{
 "cells": [
  {
   "cell_type": "code",
   "execution_count": 1,
   "metadata": {},
   "outputs": [],
   "source": [
    "import os\n",
    "import os.path\n",
    "import datetime as dt\n",
    "\n",
    "from google.oauth2.credentials import Credentials\n",
    "from google_auth_oauthlib.flow import InstalledAppFlow\n",
    "from google.auth.transport.requests import Request\n",
    "from googleapiclient.discovery import build\n",
    "from googleapiclient.errors import HttpError"
   ]
  },
  {
   "cell_type": "code",
   "execution_count": 5,
   "metadata": {},
   "outputs": [
    {
     "name": "stdout",
     "output_type": "stream",
     "text": [
      "2024-06-23T19:30:00+02:00 Hola Martita Martita 2709nrhip1luep8m19heoidd5o\n",
      "2024-06-23T19:30:00+02:00 Hola Martita Martita o52noo42uoag0fi5474dui43oc\n",
      "Event created: https://www.google.com/calendar/event?eid=bHEyNGk3aTNwdmtnOWxlbG5xNGduOGVyZXMgY2Fwb3JnYUBt\n"
     ]
    }
   ],
   "source": [
    "SCOPES = [\"https://www.googleapis.com/auth/calendar\"]\n",
    "\n",
    "class GoogleCalendarManager:\n",
    "    def __init__(self):\n",
    "        self.service = self._authenticate()\n",
    "\n",
    "    def _authenticate(self):\n",
    "        creds = None\n",
    "\n",
    "        if os.path.exists(\"token.json\"):\n",
    "            creds = Credentials.from_authorized_user_file(\"token.json\", SCOPES)\n",
    "\n",
    "        if not creds or not creds.valid:\n",
    "            if creds and creds.expired and creds.refresh_token:\n",
    "                creds.refresh(Request())\n",
    "            else:\n",
    "                flow = InstalledAppFlow.from_client_secrets_file(r\"C:\\Users\\capor\\Downloads\\Desafio\\client_secret_293424317647-v6d3sj0uin8uk9qb372ap3l2i2iu5d0m.apps.googleusercontent.com.json\", SCOPES)\n",
    "                creds = flow.run_local_server(port=0)\n",
    "\n",
    "            # Save the credentials for the next run\n",
    "            with open(\"token.json\", \"w\") as token:\n",
    "                token.write(creds.to_json())\n",
    "\n",
    "        return build(\"calendar\", \"v3\", credentials=creds)\n",
    "\n",
    "    def list_upcoming_events(self, max_results=10):\n",
    "        now = dt.datetime.utcnow().isoformat() + \"Z\"\n",
    "        tomorrow = (dt.datetime.now() + dt.timedelta(days=5)).replace(hour=23, minute=59, second=0, microsecond=0).isoformat() + \"Z\"\n",
    "\n",
    "        events_result = self.service.events().list(\n",
    "            calendarId='primary', timeMin=now, timeMax=tomorrow,\n",
    "            maxResults=max_results, singleEvents=True,\n",
    "            orderBy='startTime'\n",
    "        ).execute()\n",
    "        events = events_result.get('items', [])\n",
    "\n",
    "        if not events:\n",
    "            print('No upcoming events found.')\n",
    "        else:\n",
    "            for event in events:\n",
    "                start = event['start'].get('dateTime', event['start'].get('date'))\n",
    "                print(start, event['summary'],event['id'])\n",
    "        \n",
    "        return events\n",
    "\n",
    "    def create_event(self, summary, start_time, end_time, timezone, attendees=None):\n",
    "        event = {\n",
    "            'summary': summary,\n",
    "            'start': {\n",
    "                'dateTime': start_time,\n",
    "                'timeZone': timezone,\n",
    "            },\n",
    "            'end': {\n",
    "                'dateTime': end_time,\n",
    "                'timeZone': timezone,\n",
    "            }\n",
    "        }\n",
    "\n",
    "        if attendees:\n",
    "            event[\"attendees\"] = [{\"email\": email} for email in attendees]\n",
    "\n",
    "        try:\n",
    "            event = self.service.events().insert(calendarId=\"primary\", body=event).execute()\n",
    "            print(f\"Event created: {event.get('htmlLink')}\")\n",
    "        except HttpError as error:\n",
    "            print(f\"An error has occurred: {error}\")\n",
    "\n",
    "    def update_event(self, event_id, summary=None, start_time=None, end_time=None):\n",
    "        event = self.calendar_service.events().get(calendarId='primary', eventId=event_id).execute()\n",
    "\n",
    "        if summary:\n",
    "            event['summary'] = summary\n",
    "\n",
    "        if start_time:\n",
    "            event['start']['dateTime'] = start_time.strftime('%Y-%m-%dT%H:%M:%S')\n",
    "\n",
    "        if end_time:\n",
    "            event['end']['dateTime'] = end_time.strftime('%Y-%m-%dT%H:%M:%S')\n",
    "\n",
    "        updated_event = self.calendar_service.events().update(\n",
    "            calendarId='primary', eventId=event_id, body=event).execute()\n",
    "        return updated_event\n",
    "\n",
    "    def delete_event(self, event_id):\n",
    "        self.calendar_service.events().delete(calendarId='primary', eventId=event_id).execute()\n",
    "        return True\n",
    "    \n",
    "\n",
    "calendar = GoogleCalendarManager()\n",
    "\n",
    "calendar.list_upcoming_events()\n",
    "\n",
    "calendar.create_event(\"Hola Martitaaaa Martitaaaa\",\"2024-06-23T19:30:00+02:00\",\"2024-06-23T21:30:00+02:00\",\"Europe/Madrid\",[\"martaeserre97@gmail.com\",\"capopo2005@gmail.com\", \"caporga@gmail.com\", \"yepa@gmail.com\"])"
   ]
  },
  {
   "cell_type": "code",
   "execution_count": 10,
   "metadata": {},
   "outputs": [
    {
     "name": "stdout",
     "output_type": "stream",
     "text": [
      "Event created: https://www.google.com/calendar/event?eid=NzhqYWRiN2IyMHFiYXVsN2ZvcWtpa3ZkbG8gY2Fwb3JnYUBt\n"
     ]
    }
   ],
   "source": [
    "calendar.create_event(\"Hola Martita Martita Martita\",\"2024-06-20T19:30:00+02:00\",\"2024-06-20T21:30:00+02:00\",\"Europe/Madrid\",[\"martaeserre97@gmail.com\",\"capopo2005@gmail.com\"])"
   ]
  }
 ],
 "metadata": {
  "kernelspec": {
   "display_name": "APIS",
   "language": "python",
   "name": "python3"
  },
  "language_info": {
   "codemirror_mode": {
    "name": "ipython",
    "version": 3
   },
   "file_extension": ".py",
   "mimetype": "text/x-python",
   "name": "python",
   "nbconvert_exporter": "python",
   "pygments_lexer": "ipython3",
   "version": "3.10.14"
  }
 },
 "nbformat": 4,
 "nbformat_minor": 2
}
