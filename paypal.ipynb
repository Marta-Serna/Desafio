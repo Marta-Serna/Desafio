{
 "cells": [
  {
   "cell_type": "markdown",
   "metadata": {},
   "source": [
    "## Authorization (Obtener un token de acceso)"
   ]
  },
  {
   "cell_type": "code",
   "execution_count": 1,
   "metadata": {},
   "outputs": [
    {
     "name": "stdout",
     "output_type": "stream",
     "text": [
      "Token de acceso: A21AAKdFJRcix_LQ0K7amTLk8ZchJH5NSOH37CWmg93Y-HOdmazmvmsFV8ng8Lb1cY-F5GbRkwaDnq7qTlq83of2H-ZZI2taQ\n"
     ]
    }
   ],
   "source": [
    "import requests\n",
    "from requests.auth import HTTPBasicAuth\n",
    "\n",
    "\n",
    "# URL para obtener el token\n",
    "url = 'https://api.sandbox.paypal.com/v1/oauth2/token'\n",
    "\n",
    "\n",
    "# Tu Client ID y Secret de PayPal ( Se encuentra en la cuenta principal, API creada desafio_tripulaciones)\n",
    "client_id = 'Adjq7MDj6mQ8YSoUQkmS0bBstvFk2PjvpwDxpcFkFUo8qFWRHYeMtrkP3vx6d1dS6R8TAOYR03T3N6WL'\n",
    "secret = 'EHsUgGCTftxv_4izjnlS1znPDf7yx7Cr5iZYxnFClOidKWMEw5aw3k5tAmIqFzlU4yifzfvONRppsvpS'\n",
    "\n",
    "# Datos para la solicitud POST\n",
    "data = { \"grant_type\": \"client_credentials\"}\n",
    "\n",
    "\n",
    "# Hacemos la solicitud para obtener el token\n",
    "response = requests.post(url, data=data, auth=HTTPBasicAuth(client_id, secret))\n",
    "\n",
    "\n",
    "# Verificamos que la solicitud fue exitosa\n",
    "if response.status_code == 200:\n",
    "    access_token = response.json()['access_token']\n",
    "    print(f'Token de acceso: {access_token}')\n",
    "else:\n",
    "    print('Error al obtener el token:', response.json())"
   ]
  },
  {
   "cell_type": "markdown",
   "metadata": {},
   "source": [
    "# Create Order"
   ]
  },
  {
   "cell_type": "code",
   "execution_count": 5,
   "metadata": {},
   "outputs": [
    {
     "name": "stdout",
     "output_type": "stream",
     "text": [
      "{\"id\":\"1K469367E20570641\",\"status\":\"CREATED\",\"links\":[{\"href\":\"https://api.sandbox.paypal.com/v2/checkout/orders/1K469367E20570641\",\"rel\":\"self\",\"method\":\"GET\"},{\"href\":\"https://www.sandbox.paypal.com/checkoutnow?token=1K469367E20570641\",\"rel\":\"approve\",\"method\":\"GET\"},{\"href\":\"https://api.sandbox.paypal.com/v2/checkout/orders/1K469367E20570641\",\"rel\":\"update\",\"method\":\"PATCH\"},{\"href\":\"https://api.sandbox.paypal.com/v2/checkout/orders/1K469367E20570641/capture\",\"rel\":\"capture\",\"method\":\"POST\"}]}\n",
      "Order ID success\n"
     ]
    }
   ],
   "source": [
    "import requests\n",
    "import json\n",
    "\n",
    "# URL para crear un \n",
    "url = 'https://api.sandbox.paypal.com//v2/checkout/orders'\n",
    "\n",
    "# Encabezados para la solicitud\n",
    "# headers = {\n",
    "#     'Content-Type': 'application/json',\n",
    "#     'Authorization': f'Bearer {access_token}'\n",
    "# }\n",
    "\n",
    "data = {\n",
    "    \"intent\": \"CAPTURE\",\n",
    "    \"purchase_units\": [\n",
    "        {\n",
    "            \"items\": [\n",
    "                {\n",
    "                    \"name\": \"silver\",\n",
    "                    \"description\": \"suscripcion silver\",\n",
    "                    \"quantity\": \"1\",\n",
    "                    \"unit_amount\": {\n",
    "                        \"currency_code\": \"EUR\",\n",
    "                        \"value\": \"1000.00\"\n",
    "                    }\n",
    "                }\n",
    "            ],\n",
    "            \"amount\": {\n",
    "                \"currency_code\": \"EUR\",\n",
    "                \"value\": \"1000.00\",\n",
    "                \"breakdown\": {\n",
    "                    \"item_total\": {\n",
    "                        \"currency_code\": \"EUR\",\n",
    "                        \"value\": \"1000.00\"\n",
    "                    }\n",
    "                }\n",
    "            }\n",
    "        }\n",
    "    ],\n",
    "    \"application_context\": {\n",
    "        \"return_url\": \"https://example.com/return\",\n",
    "        \"cancel_url\": \"https://example.com/cancel\"\n",
    "    }\n",
    "}\n",
    "\n",
    "\n",
    "client_id = 'Adjq7MDj6mQ8YSoUQkmS0bBstvFk2PjvpwDxpcFkFUo8qFWRHYeMtrkP3vx6d1dS6R8TAOYR03T3N6WL'\n",
    "secret = 'EHsUgGCTftxv_4izjnlS1znPDf7yx7Cr5iZYxnFClOidKWMEw5aw3k5tAmIqFzlU4yifzfvONRppsvpS'\n",
    "\n",
    "\n",
    "# Hacemos la solicitud para crear la orden\n",
    "response = requests.post(url, json=data, auth=HTTPBasicAuth(client_id, secret))\n",
    "\n",
    "# Verificamos que la solicitud fue exitosa\n",
    "if response.status_code == 201:\n",
    "    print(response.text)\n",
    "    order_id = json.loads(response.text)['id']\n",
    "    print(\"Order ID success\")\n",
    "else:\n",
    "    print('Error al obtener la order ID:', response.json())\n"
   ]
  },
  {
   "cell_type": "code",
   "execution_count": 6,
   "metadata": {},
   "outputs": [
    {
     "data": {
      "text/plain": [
       "'1K469367E20570641'"
      ]
     },
     "execution_count": 6,
     "metadata": {},
     "output_type": "execute_result"
    }
   ],
   "source": [
    "order_id"
   ]
  },
  {
   "cell_type": "markdown",
   "metadata": {},
   "source": [
    "# Capture payment"
   ]
  },
  {
   "cell_type": "code",
   "execution_count": 7,
   "metadata": {},
   "outputs": [
    {
     "name": "stdout",
     "output_type": "stream",
     "text": [
      "{\"id\":\"1K469367E20570641\",\"status\":\"COMPLETED\",\"payment_source\":{\"paypal\":{\"email_address\":\"juan_perez@asistente.com\",\"account_id\":\"2G59Q4CU4HZWQ\",\"account_status\":\"VERIFIED\",\"name\":{\"given_name\":\"Juan\",\"surname\":\"Perez\"},\"address\":{\"country_code\":\"ES\"},\"business_name\":\"Test Store\"}},\"purchase_units\":[{\"reference_id\":\"default\",\"shipping\":{\"name\":{\"full_name\":\"Juan Perez\"},\"address\":{\"address_line_1\":\"calle Vilamari 76993- 17469\",\"admin_area_2\":\"Albacete\",\"admin_area_1\":\"Albacete\",\"postal_code\":\"02001\",\"country_code\":\"ES\"}},\"payments\":{\"captures\":[{\"id\":\"71931409V2640433H\",\"status\":\"COMPLETED\",\"amount\":{\"currency_code\":\"EUR\",\"value\":\"1000.00\"},\"final_capture\":true,\"seller_protection\":{\"status\":\"ELIGIBLE\",\"dispute_categories\":[\"ITEM_NOT_RECEIVED\",\"UNAUTHORIZED_TRANSACTION\"]},\"seller_receivable_breakdown\":{\"gross_amount\":{\"currency_code\":\"EUR\",\"value\":\"1000.00\"},\"paypal_fee\":{\"currency_code\":\"EUR\",\"value\":\"34.35\"},\"net_amount\":{\"currency_code\":\"EUR\",\"value\":\"965.65\"}},\"links\":[{\"href\":\"https://api.sandbox.paypal.com/v2/payments/captures/71931409V2640433H\",\"rel\":\"self\",\"method\":\"GET\"},{\"href\":\"https://api.sandbox.paypal.com/v2/payments/captures/71931409V2640433H/refund\",\"rel\":\"refund\",\"method\":\"POST\"},{\"href\":\"https://api.sandbox.paypal.com/v2/checkout/orders/1K469367E20570641\",\"rel\":\"up\",\"method\":\"GET\"}],\"create_time\":\"2024-06-25T09:41:31Z\",\"update_time\":\"2024-06-25T09:41:31Z\"}]}}],\"payer\":{\"name\":{\"given_name\":\"Juan\",\"surname\":\"Perez\"},\"email_address\":\"juan_perez@asistente.com\",\"payer_id\":\"2G59Q4CU4HZWQ\",\"address\":{\"country_code\":\"ES\"}},\"links\":[{\"href\":\"https://api.sandbox.paypal.com/v2/checkout/orders/1K469367E20570641\",\"rel\":\"self\",\"method\":\"GET\"}]}\n",
      "Success {\"id\":\"1K469367E20570641\",\"status\":\"COMPLETED\",\"payment_source\":{\"paypal\":{\"email_address\":\"juan_perez@asistente.com\",\"account_id\":\"2G59Q4CU4HZWQ\",\"account_status\":\"VERIFIED\",\"name\":{\"given_name\":\"Juan\",\"surname\":\"Perez\"},\"address\":{\"country_code\":\"ES\"},\"business_name\":\"Test Store\"}},\"purchase_units\":[{\"reference_id\":\"default\",\"shipping\":{\"name\":{\"full_name\":\"Juan Perez\"},\"address\":{\"address_line_1\":\"calle Vilamari 76993- 17469\",\"admin_area_2\":\"Albacete\",\"admin_area_1\":\"Albacete\",\"postal_code\":\"02001\",\"country_code\":\"ES\"}},\"payments\":{\"captures\":[{\"id\":\"71931409V2640433H\",\"status\":\"COMPLETED\",\"amount\":{\"currency_code\":\"EUR\",\"value\":\"1000.00\"},\"final_capture\":true,\"seller_protection\":{\"status\":\"ELIGIBLE\",\"dispute_categories\":[\"ITEM_NOT_RECEIVED\",\"UNAUTHORIZED_TRANSACTION\"]},\"seller_receivable_breakdown\":{\"gross_amount\":{\"currency_code\":\"EUR\",\"value\":\"1000.00\"},\"paypal_fee\":{\"currency_code\":\"EUR\",\"value\":\"34.35\"},\"net_amount\":{\"currency_code\":\"EUR\",\"value\":\"965.65\"}},\"links\":[{\"href\":\"https://api.sandbox.paypal.com/v2/payments/captures/71931409V2640433H\",\"rel\":\"self\",\"method\":\"GET\"},{\"href\":\"https://api.sandbox.paypal.com/v2/payments/captures/71931409V2640433H/refund\",\"rel\":\"refund\",\"method\":\"POST\"},{\"href\":\"https://api.sandbox.paypal.com/v2/checkout/orders/1K469367E20570641\",\"rel\":\"up\",\"method\":\"GET\"}],\"create_time\":\"2024-06-25T09:41:31Z\",\"update_time\":\"2024-06-25T09:41:31Z\"}]}}],\"payer\":{\"name\":{\"given_name\":\"Juan\",\"surname\":\"Perez\"},\"email_address\":\"juan_perez@asistente.com\",\"payer_id\":\"2G59Q4CU4HZWQ\",\"address\":{\"country_code\":\"ES\"}},\"links\":[{\"href\":\"https://api.sandbox.paypal.com/v2/checkout/orders/1K469367E20570641\",\"rel\":\"self\",\"method\":\"GET\"}]}\n"
     ]
    }
   ],
   "source": [
    "import requests\n",
    "import json\n",
    "\n",
    "# URL para capturar pago\n",
    "url = \"https://api.sandbox.paypal.com/v2/checkout/orders/1K469367E20570641/capture\"\n",
    "\n",
    "data = {}\n",
    "\n",
    "\n",
    "client_id = 'Adjq7MDj6mQ8YSoUQkmS0bBstvFk2PjvpwDxpcFkFUo8qFWRHYeMtrkP3vx6d1dS6R8TAOYR03T3N6WL'\n",
    "secret = 'EHsUgGCTftxv_4izjnlS1znPDf7yx7Cr5iZYxnFClOidKWMEw5aw3k5tAmIqFzlU4yifzfvONRppsvpS'\n",
    "\n",
    "\n",
    "# Hacemos la solicitud para capturar pago\n",
    "response = requests.post(url, json=data, auth=HTTPBasicAuth(client_id, secret))\n",
    "\n",
    "\n",
    "# Verificamos que la solicitud fue exitosa\n",
    "if response.status_code == 201:\n",
    "    print(response.text)\n",
    "    print(\"Success\", response.text)\n",
    "    # order_id = json.loads(response.text)['id']\n",
    "    # print(\"Order ID success\")\n",
    "else:\n",
    "    print('Error:', response.json())\n",
    "\n"
   ]
  }
 ],
 "metadata": {
  "kernelspec": {
   "display_name": "ML",
   "language": "python",
   "name": "python3"
  },
  "language_info": {
   "codemirror_mode": {
    "name": "ipython",
    "version": 3
   },
   "file_extension": ".py",
   "mimetype": "text/x-python",
   "name": "python",
   "nbconvert_exporter": "python",
   "pygments_lexer": "ipython3",
   "version": "3.12.3"
  }
 },
 "nbformat": 4,
 "nbformat_minor": 2
}
